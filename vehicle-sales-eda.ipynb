{
 "cells": [
  {
   "cell_type": "markdown",
   "id": "824535de",
   "metadata": {
    "papermill": {
     "duration": 0.013124,
     "end_time": "2024-05-18T14:42:09.959874",
     "exception": false,
     "start_time": "2024-05-18T14:42:09.946750",
     "status": "completed"
    },
    "tags": []
   },
   "source": [
    "<center>\n",
    "<h2> Vehicle Sales Data Analytics  </h2> "
   ]
  },
  {
   "cell_type": "markdown",
   "id": "0652166b",
   "metadata": {},
   "source": [
    "<h3 style=\"color: #3366ff;\">Notebook Overview</h3>\n",
    "\n",
    "<p>This Jupyter Notebook provides a comprehensive and integrated analysis of the <em>\"Vehicle Sales and Market Trends Dataset\"</em>. This dataset offers a wealth of information about vehicle sales transactions, including details such as make, model, condition, selling prices, and more. The unique aspect of this notebook is the simultaneous visualization and reporting of insights, which allows for a more integrated and comprehensive understanding of the data.</p>\n",
    "\n",
    "<h4 style=\"color: #3366ff;\">Key Sections:</h4>\n",
    "\n",
    "<ul>\n",
    "<li><strong>Data Import and Exploration:</strong> The notebook begins with the import of necessary libraries and the loading of the dataset. It then explores the dataset's structure, dimensions, and missing values.</li>\n",
    "\n",
    "<li><strong>Data Cleaning and Transformation:</strong> This section focuses on cleaning and transforming the data. It handles missing values, converts data types, and addresses inconsistencies in categorical columns.</li>\n",
    "\n",
    "<li><strong>Integrated Data Visualization and Reporting:</strong> After cleaning the data, the notebook visualizes the dataset using various plots and charts, while simultaneously reporting insights. It performs correlation analysis, highlights key observations and trends, and suggests recommendations or further actions based on the analysis.</li>\n",
    "</ul>\n",
    "\n",
    "<p>Throughout the notebook, various Python packages are utilized, including pandas, matplotlib, seaborn, and scikit-learn, among others. These packages enable data manipulation, visualization, and statistical analysis to extract meaningful insights from the dataset.</p>\n",
    "\n",
    "<p>Overall, this notebook serves as a comprehensive guide to understanding the characteristics and patterns within the vehicle sales data, helping to understand market trends, consumer preferences, and pricing strategies.</p>\n"
   ]
  },
  {
   "cell_type": "markdown",
   "id": "81e4d203",
   "metadata": {},
   "source": [
    "<h3 style=\"color: #3366ff;\">1. Data Import and Exploration</h3>"
   ]
  },
  {
   "cell_type": "code",
   "execution_count": null,
   "id": "a6b34595",
   "metadata": {
    "execution": {
     "iopub.execute_input": "2024-05-18T14:42:10.010748Z",
     "iopub.status.busy": "2024-05-18T14:42:10.010383Z",
     "iopub.status.idle": "2024-05-18T14:42:11.607695Z",
     "shell.execute_reply": "2024-05-18T14:42:11.606947Z"
    },
    "metadata": {},
    "papermill": {
     "duration": 1.613102,
     "end_time": "2024-05-18T14:42:11.609897",
     "exception": false,
     "start_time": "2024-05-18T14:42:09.996795",
     "status": "completed"
    },
    "tags": []
   },
   "outputs": [],
   "source": [
    "# Importing necessary libraries for data analysis and visualization\n",
    "\n",
    "# numpy is used for numerical computations in Python\n",
    "import numpy as np\n",
    "\n",
    "# pandas is used for data manipulation and analysis\n",
    "import pandas as pd\n",
    "\n",
    "# matplotlib.pyplot is a plotting library used for creating static, animated, and interactive visualizations in Python\n",
    "import matplotlib.pyplot as plt\n",
    "\n",
    "# seaborn is a Python data visualization library based on matplotlib\n",
    "import seaborn as sns\n",
    "\n",
    "# warnings is a standard Python library used to suppress warning messages\n",
    "import warnings\n",
    "\n",
    "# termcolor library is used to color the text in the console\n",
    "from termcolor import colored\n",
    "\n",
    "# Ignore all warning messages that might appear during the execution of the program\n",
    "warnings.filterwarnings('ignore')\n",
    "\n",
    "# Set the aesthetic style of the plots. This affects things like the color of the axes, whether a grid is enabled by default, and other aesthetic elements\n",
    "sns.set_style()\n",
    "\n",
    "pd.set_option('display.max_columns', None)\n",
    "pd.set_option('display.expand_frame_repr', False)\n",
    "pd.set_option('max_colwidth', -1)"
   ]
  },
  {
   "cell_type": "markdown",
   "id": "a9854fa7",
   "metadata": {},
   "source": [
    "The describe_data function takes a pandas DataFrame as an argument and prints out various pieces of information about the data:"
   ]
  },
  {
   "cell_type": "code",
   "execution_count": null,
   "id": "5e8f60ff",
   "metadata": {
    "execution": {
     "iopub.execute_input": "2024-05-18T14:42:11.635508Z",
     "iopub.status.busy": "2024-05-18T14:42:11.635109Z",
     "iopub.status.idle": "2024-05-18T14:42:14.638444Z",
     "shell.execute_reply": "2024-05-18T14:42:14.637420Z"
    },
    "metadata": {},
    "papermill": {
     "duration": 3.01963,
     "end_time": "2024-05-18T14:42:14.641434",
     "exception": false,
     "start_time": "2024-05-18T14:42:11.621804",
     "status": "completed"
    },
    "tags": []
   },
   "outputs": [],
   "source": [
    "def describe_data(data):\n",
    "    print(colored(\"Shape of the data:\", 'blue'))\n",
    "    print(data.shape)\n",
    "    \n",
    "    print(colored(\"\\nColumns in the data:\", 'green'))\n",
    "    print(data.columns)\n",
    "    \n",
    "    print(colored(\"\\nInformation about the data:\", 'cyan'))\n",
    "    data.info()\n",
    "    \n",
    "    print(colored(\"\\nDescription of numerical data:\", 'magenta'))\n",
    "    print(data.describe().T)\n",
    "    \n",
    "    print(colored(\"\\nDescription of non-numerical data:\", 'yellow'))\n",
    "    print(data.describe(exclude='number').T)"
   ]
  },
  {
   "cell_type": "markdown",
   "id": "c13e8a9d",
   "metadata": {},
   "source": [
    "Firstly, I will read the csv file:"
   ]
  },
  {
   "cell_type": "code",
   "execution_count": null,
   "id": "09537007",
   "metadata": {
    "metadata": {}
   },
   "outputs": [],
   "source": [
    "# Use the function\n",
    "data = pd.read_csv('car_prices.csv')\n"
   ]
  },
  {
   "cell_type": "markdown",
   "id": "b634ada9",
   "metadata": {
    "papermill": {
     "duration": 0.011917,
     "end_time": "2024-05-18T14:42:14.667051",
     "exception": false,
     "start_time": "2024-05-18T14:42:14.655134",
     "status": "completed"
    },
    "tags": []
   },
   "source": [
    "### \n",
    "<h4 style=\"color: #3366ff;\"> Understanding Data 📊</h4>"
   ]
  },
  {
   "cell_type": "code",
   "execution_count": null,
   "id": "9a696330",
   "metadata": {
    "metadata": {}
   },
   "outputs": [],
   "source": [
    "describe_data(data)"
   ]
  },
  {
   "cell_type": "markdown",
   "id": "2e33ccec",
   "metadata": {
    "papermill": {
     "duration": 0.012934,
     "end_time": "2024-05-18T14:42:17.622299",
     "exception": false,
     "start_time": "2024-05-18T14:42:17.609365",
     "status": "completed"
    },
    "tags": []
   },
   "source": [
    "## Handling Missing Values"
   ]
  },
  {
   "cell_type": "code",
   "execution_count": null,
   "id": "3d4423b8",
   "metadata": {
    "execution": {
     "iopub.execute_input": "2024-05-18T14:42:17.649354Z",
     "iopub.status.busy": "2024-05-18T14:42:17.649064Z",
     "iopub.status.idle": "2024-05-18T14:42:18.778107Z",
     "shell.execute_reply": "2024-05-18T14:42:18.777149Z"
    },
    "metadata": {},
    "papermill": {
     "duration": 1.145132,
     "end_time": "2024-05-18T14:42:18.780312",
     "exception": false,
     "start_time": "2024-05-18T14:42:17.635180",
     "status": "completed"
    },
    "tags": []
   },
   "outputs": [],
   "source": [
    "data.isnull().sum()/data.count()*100"
   ]
  },
  {
   "cell_type": "markdown",
   "id": "89964bfd",
   "metadata": {
    "papermill": {
     "duration": 0.013032,
     "end_time": "2024-05-18T14:42:18.806896",
     "exception": false,
     "start_time": "2024-05-18T14:42:18.793864",
     "status": "completed"
    },
    "tags": []
   },
   "source": [
    "There are many missing values in the data. As we see there are many values missing. There are different methods to handle missing values or we can try to fill those missing values such as the 'Make' column missing value can be filled by doing some research 'Vin' values.\n",
    "\n",
    "https://en.wikibooks.org/wiki/Vehicle_Identification_Numbers_(VIN_codes)/World_Manufacturer_Identifier_(WMI)\n",
    "\n",
    "\n",
    "Check this link for filling 'Make' using 'Vin'.\n",
    "\n",
    "But for now I'm going to remove the missing values. We have good number of data points and the missing values is less the 5% in almost all of the columns besides of 'Transmission' column as it has 13% of values missing. "
   ]
  },
  {
   "cell_type": "code",
   "execution_count": null,
   "id": "105aae83",
   "metadata": {
    "execution": {
     "iopub.execute_input": "2024-05-18T14:42:18.834534Z",
     "iopub.status.busy": "2024-05-18T14:42:18.834249Z",
     "iopub.status.idle": "2024-05-18T14:42:18.891922Z",
     "shell.execute_reply": "2024-05-18T14:42:18.890950Z"
    },
    "metadata": {},
    "papermill": {
     "duration": 0.073568,
     "end_time": "2024-05-18T14:42:18.893688",
     "exception": false,
     "start_time": "2024-05-18T14:42:18.820120",
     "status": "completed"
    },
    "tags": []
   },
   "outputs": [],
   "source": [
    "# We are filling missing values with 'Automatic' because it is the most used transmission type.\n",
    "\n",
    "data['transmission'].fillna('automatic', inplace=True)"
   ]
  },
  {
   "cell_type": "code",
   "execution_count": null,
   "id": "253e1a71",
   "metadata": {
    "execution": {
     "iopub.execute_input": "2024-05-18T14:42:18.922097Z",
     "iopub.status.busy": "2024-05-18T14:42:18.921798Z",
     "iopub.status.idle": "2024-05-18T14:42:19.576180Z",
     "shell.execute_reply": "2024-05-18T14:42:19.575155Z"
    },
    "metadata": {},
    "papermill": {
     "duration": 0.671266,
     "end_time": "2024-05-18T14:42:19.578598",
     "exception": false,
     "start_time": "2024-05-18T14:42:18.907332",
     "status": "completed"
    },
    "tags": []
   },
   "outputs": [],
   "source": [
    "data.dropna(axis=0, inplace=True)"
   ]
  },
  {
   "cell_type": "code",
   "execution_count": null,
   "id": "ec31aa45",
   "metadata": {
    "execution": {
     "iopub.execute_input": "2024-05-18T14:42:19.606825Z",
     "iopub.status.busy": "2024-05-18T14:42:19.606495Z",
     "iopub.status.idle": "2024-05-18T14:42:20.683339Z",
     "shell.execute_reply": "2024-05-18T14:42:20.682294Z"
    },
    "metadata": {},
    "papermill": {
     "duration": 1.093168,
     "end_time": "2024-05-18T14:42:20.685399",
     "exception": false,
     "start_time": "2024-05-18T14:42:19.592231",
     "status": "completed"
    },
    "tags": []
   },
   "outputs": [],
   "source": [
    "data.isnull().sum()/data.count()*100"
   ]
  },
  {
   "cell_type": "markdown",
   "id": "d1f0f978",
   "metadata": {
    "papermill": {
     "duration": 0.013779,
     "end_time": "2024-05-18T14:42:20.713725",
     "exception": false,
     "start_time": "2024-05-18T14:42:20.699946",
     "status": "completed"
    },
    "tags": []
   },
   "source": [
    "We have successfully removed all the missing values either by removing them or replacing them with the alternative."
   ]
  },
  {
   "cell_type": "markdown",
   "id": "64434ab6",
   "metadata": {
    "papermill": {
     "duration": 0.013244,
     "end_time": "2024-05-18T14:42:20.740407",
     "exception": false,
     "start_time": "2024-05-18T14:42:20.727163",
     "status": "completed"
    },
    "tags": []
   },
   "source": [
    "## Data Cleaning & Transforming"
   ]
  },
  {
   "cell_type": "code",
   "execution_count": null,
   "id": "51c935ee",
   "metadata": {
    "execution": {
     "iopub.execute_input": "2024-05-18T14:42:20.768935Z",
     "iopub.status.busy": "2024-05-18T14:42:20.767958Z",
     "iopub.status.idle": "2024-05-18T14:42:20.794342Z",
     "shell.execute_reply": "2024-05-18T14:42:20.793414Z"
    },
    "metadata": {},
    "papermill": {
     "duration": 0.042751,
     "end_time": "2024-05-18T14:42:20.796423",
     "exception": false,
     "start_time": "2024-05-18T14:42:20.753672",
     "status": "completed"
    },
    "tags": []
   },
   "outputs": [],
   "source": [
    "# Since year is a time based data, the best approach is to convert it into datetime data type.\n",
    "\n",
    "data['year'] = pd.to_datetime(data['year'], format='%Y').dt.year"
   ]
  },
  {
   "cell_type": "code",
   "execution_count": null,
   "id": "d6796cf2",
   "metadata": {
    "execution": {
     "iopub.execute_input": "2024-05-18T14:42:20.824961Z",
     "iopub.status.busy": "2024-05-18T14:42:20.824646Z",
     "iopub.status.idle": "2024-05-18T14:42:20.836300Z",
     "shell.execute_reply": "2024-05-18T14:42:20.835404Z"
    },
    "metadata": {},
    "papermill": {
     "duration": 0.028139,
     "end_time": "2024-05-18T14:42:20.838240",
     "exception": false,
     "start_time": "2024-05-18T14:42:20.810101",
     "status": "completed"
    },
    "tags": []
   },
   "outputs": [],
   "source": [
    "data['condition'].unique()"
   ]
  },
  {
   "cell_type": "markdown",
   "id": "48042a13",
   "metadata": {
    "papermill": {
     "duration": 0.013447,
     "end_time": "2024-05-18T14:42:20.865434",
     "exception": false,
     "start_time": "2024-05-18T14:42:20.851987",
     "status": "completed"
    },
    "tags": []
   },
   "source": [
    "The condition column has values between 1 to around 50 which is not correct. It should be between 1 to 5 as it does not look correct to me to have condition 45.\n",
    "\n",
    "Let's change it into 1 to 5."
   ]
  },
  {
   "cell_type": "code",
   "execution_count": null,
   "id": "c82fe4c8",
   "metadata": {
    "execution": {
     "iopub.execute_input": "2024-05-18T14:42:20.894048Z",
     "iopub.status.busy": "2024-05-18T14:42:20.893795Z",
     "iopub.status.idle": "2024-05-18T14:42:20.935776Z",
     "shell.execute_reply": "2024-05-18T14:42:20.935077Z"
    },
    "metadata": {},
    "papermill": {
     "duration": 0.058671,
     "end_time": "2024-05-18T14:42:20.937801",
     "exception": false,
     "start_time": "2024-05-18T14:42:20.879130",
     "status": "completed"
    },
    "tags": []
   },
   "outputs": [],
   "source": [
    "data['condition'].replace(range(10, 21), 1, inplace=True)\n",
    "data['condition'].replace(range(20, 31), 2, inplace=True)\n",
    "data['condition'].replace(range(30, 41), 3, inplace=True)\n",
    "data['condition'].replace(range(40, 51), 4, inplace=True)"
   ]
  },
  {
   "cell_type": "code",
   "execution_count": null,
   "id": "73172e23",
   "metadata": {
    "execution": {
     "iopub.execute_input": "2024-05-18T14:42:21.006650Z",
     "iopub.status.busy": "2024-05-18T14:42:21.006341Z",
     "iopub.status.idle": "2024-05-18T14:42:21.054038Z",
     "shell.execute_reply": "2024-05-18T14:42:21.053157Z"
    },
    "metadata": {},
    "papermill": {
     "duration": 0.064878,
     "end_time": "2024-05-18T14:42:21.055969",
     "exception": false,
     "start_time": "2024-05-18T14:42:20.991091",
     "status": "completed"
    },
    "tags": []
   },
   "outputs": [],
   "source": [
    "data['color'].unique()"
   ]
  },
  {
   "cell_type": "code",
   "execution_count": null,
   "id": "faa26071",
   "metadata": {
    "execution": {
     "iopub.execute_input": "2024-05-18T14:42:21.085521Z",
     "iopub.status.busy": "2024-05-18T14:42:21.085231Z",
     "iopub.status.idle": "2024-05-18T14:42:21.128560Z",
     "shell.execute_reply": "2024-05-18T14:42:21.127717Z"
    },
    "metadata": {},
    "papermill": {
     "duration": 0.060052,
     "end_time": "2024-05-18T14:42:21.130450",
     "exception": false,
     "start_time": "2024-05-18T14:42:21.070398",
     "status": "completed"
    },
    "tags": []
   },
   "outputs": [],
   "source": [
    "data['interior'].unique()"
   ]
  },
  {
   "cell_type": "markdown",
   "id": "47a9078e",
   "metadata": {
    "papermill": {
     "duration": 0.014018,
     "end_time": "2024-05-18T14:42:21.158632",
     "exception": false,
     "start_time": "2024-05-18T14:42:21.144614",
     "status": "completed"
    },
    "tags": []
   },
   "source": [
    "We can see that 'Color' and 'Interior' column has value '-' which is not correct, there might be any other color but since about that I have no knowledge or idea, i'll use 'MultiColor' as value. This way, we know it is our custom used value yet it will give meaning to the data."
   ]
  },
  {
   "cell_type": "code",
   "execution_count": null,
   "id": "c2f32d74",
   "metadata": {
    "execution": {
     "iopub.execute_input": "2024-05-18T14:42:21.188264Z",
     "iopub.status.busy": "2024-05-18T14:42:21.187969Z",
     "iopub.status.idle": "2024-05-18T14:42:21.335817Z",
     "shell.execute_reply": "2024-05-18T14:42:21.335051Z"
    },
    "metadata": {},
    "papermill": {
     "duration": 0.165082,
     "end_time": "2024-05-18T14:42:21.337949",
     "exception": false,
     "start_time": "2024-05-18T14:42:21.172867",
     "status": "completed"
    },
    "tags": []
   },
   "outputs": [],
   "source": [
    "data['color'].replace('—', 'multicolor', inplace=True)\n",
    "data['interior'].replace('—', 'multicolor', inplace=True)"
   ]
  },
  {
   "cell_type": "code",
   "execution_count": null,
   "id": "309ce0d7",
   "metadata": {
    "execution": {
     "iopub.execute_input": "2024-05-18T14:42:21.368324Z",
     "iopub.status.busy": "2024-05-18T14:42:21.367984Z",
     "iopub.status.idle": "2024-05-18T14:42:22.355183Z",
     "shell.execute_reply": "2024-05-18T14:42:22.354335Z"
    },
    "metadata": {},
    "papermill": {
     "duration": 1.004745,
     "end_time": "2024-05-18T14:42:22.357483",
     "exception": false,
     "start_time": "2024-05-18T14:42:21.352738",
     "status": "completed"
    },
    "tags": []
   },
   "outputs": [],
   "source": [
    "data['saledate'] = pd.to_datetime(data['saledate'], utc=True, format='mixed').dt.date"
   ]
  },
  {
   "cell_type": "markdown",
   "id": "4e12fe95",
   "metadata": {
    "papermill": {
     "duration": 0.01436,
     "end_time": "2024-05-18T14:42:22.386638",
     "exception": false,
     "start_time": "2024-05-18T14:42:22.372278",
     "status": "completed"
    },
    "tags": []
   },
   "source": [
    "Saledate is also datetime column but it has simply object as data-type. We will convert it into datetime and keep the date part only discarding the time part."
   ]
  },
  {
   "cell_type": "code",
   "execution_count": null,
   "id": "dfa5a59b",
   "metadata": {
    "execution": {
     "iopub.execute_input": "2024-05-18T14:42:22.417790Z",
     "iopub.status.busy": "2024-05-18T14:42:22.417027Z",
     "iopub.status.idle": "2024-05-18T14:42:22.552173Z",
     "shell.execute_reply": "2024-05-18T14:42:22.551354Z"
    },
    "metadata": {},
    "papermill": {
     "duration": 0.153556,
     "end_time": "2024-05-18T14:42:22.554540",
     "exception": false,
     "start_time": "2024-05-18T14:42:22.400984",
     "status": "completed"
    },
    "tags": []
   },
   "outputs": [],
   "source": [
    "data['body'] = data['body'].str.lower()"
   ]
  },
  {
   "cell_type": "code",
   "execution_count": null,
   "id": "3752ba8c",
   "metadata": {
    "execution": {
     "iopub.execute_input": "2024-05-18T14:42:22.588446Z",
     "iopub.status.busy": "2024-05-18T14:42:22.587596Z",
     "iopub.status.idle": "2024-05-18T14:42:22.609071Z",
     "shell.execute_reply": "2024-05-18T14:42:22.608018Z"
    },
    "metadata": {},
    "papermill": {
     "duration": 0.040939,
     "end_time": "2024-05-18T14:42:22.611334",
     "exception": false,
     "start_time": "2024-05-18T14:42:22.570395",
     "status": "completed"
    },
    "tags": []
   },
   "outputs": [],
   "source": [
    "data.head()"
   ]
  },
  {
   "cell_type": "markdown",
   "id": "30512972",
   "metadata": {
    "papermill": {
     "duration": 0.015565,
     "end_time": "2024-05-18T14:42:22.644564",
     "exception": false,
     "start_time": "2024-05-18T14:42:22.628999",
     "status": "completed"
    },
    "tags": []
   },
   "source": [
    "## Data Visualization"
   ]
  },
  {
   "cell_type": "markdown",
   "id": "80060d3e",
   "metadata": {
    "papermill": {
     "duration": 0.015531,
     "end_time": "2024-05-18T14:42:22.675657",
     "exception": false,
     "start_time": "2024-05-18T14:42:22.660126",
     "status": "completed"
    },
    "tags": []
   },
   "source": [
    "Let's define a function to create a Count Plot so we don't have to write all the necessary lines again and again."
   ]
  },
  {
   "cell_type": "code",
   "execution_count": null,
   "id": "0e3b7a7c",
   "metadata": {
    "execution": {
     "iopub.execute_input": "2024-05-18T14:42:22.708926Z",
     "iopub.status.busy": "2024-05-18T14:42:22.708587Z",
     "iopub.status.idle": "2024-05-18T14:42:22.715333Z",
     "shell.execute_reply": "2024-05-18T14:42:22.714434Z"
    },
    "metadata": {},
    "papermill": {
     "duration": 0.025803,
     "end_time": "2024-05-18T14:42:22.717247",
     "exception": false,
     "start_time": "2024-05-18T14:42:22.691444",
     "status": "completed"
    },
    "tags": []
   },
   "outputs": [],
   "source": [
    "def countplot(col, label, rotation=0, size=(12,6)):\n",
    "    '''\n",
    "    Create Count Plot using seaborn library.\n",
    "    It takes four arguments.\n",
    "\n",
    "    col (str): The column used to create countplot\n",
    "    label (str): Name of x-label and it is also used as title.\n",
    "    rotation (int): How much you want to rotate the x-ticks.\n",
    "    size (tuple): It is a tuple and takes the size for figure in (width, height) format.\n",
    "    '''\n",
    "    plt.figure(figsize=size)\n",
    "    plt.title(f'Count by Car {label}', fontsize=20)\n",
    "    sns.countplot(x=data[col], palette='viridis')\n",
    "    plt.xlabel(label, fontsize=16)\n",
    "    plt.xticks(rotation=rotation)\n",
    "    plt.ylabel('Count', fontsize=16)"
   ]
  },
  {
   "cell_type": "code",
   "execution_count": null,
   "id": "647e629c",
   "metadata": {
    "execution": {
     "iopub.execute_input": "2024-05-18T14:42:22.750021Z",
     "iopub.status.busy": "2024-05-18T14:42:22.749766Z",
     "iopub.status.idle": "2024-05-18T14:42:24.059856Z",
     "shell.execute_reply": "2024-05-18T14:42:24.058975Z"
    },
    "metadata": {},
    "papermill": {
     "duration": 1.329805,
     "end_time": "2024-05-18T14:42:24.062394",
     "exception": false,
     "start_time": "2024-05-18T14:42:22.732589",
     "status": "completed"
    },
    "tags": []
   },
   "outputs": [],
   "source": [
    "countplot('make', 'Brands', 90)"
   ]
  },
  {
   "cell_type": "code",
   "execution_count": null,
   "id": "94bb0052",
   "metadata": {
    "execution": {
     "iopub.execute_input": "2024-05-18T14:42:24.096378Z",
     "iopub.status.busy": "2024-05-18T14:42:24.095651Z",
     "iopub.status.idle": "2024-05-18T14:42:25.314697Z",
     "shell.execute_reply": "2024-05-18T14:42:25.313766Z"
    },
    "metadata": {},
    "papermill": {
     "duration": 1.238836,
     "end_time": "2024-05-18T14:42:25.317416",
     "exception": false,
     "start_time": "2024-05-18T14:42:24.078580",
     "status": "completed"
    },
    "tags": []
   },
   "outputs": [],
   "source": [
    "countplot('body', 'Body', 90, (18,6))"
   ]
  },
  {
   "cell_type": "code",
   "execution_count": null,
   "id": "75aec88d",
   "metadata": {
    "execution": {
     "iopub.execute_input": "2024-05-18T14:42:25.354588Z",
     "iopub.status.busy": "2024-05-18T14:42:25.354289Z",
     "iopub.status.idle": "2024-05-18T14:42:26.121876Z",
     "shell.execute_reply": "2024-05-18T14:42:26.120917Z"
    },
    "metadata": {},
    "papermill": {
     "duration": 0.788785,
     "end_time": "2024-05-18T14:42:26.124134",
     "exception": false,
     "start_time": "2024-05-18T14:42:25.335349",
     "status": "completed"
    },
    "tags": []
   },
   "outputs": [],
   "source": [
    "countplot('transmission', 'Transmission', 90)"
   ]
  },
  {
   "cell_type": "code",
   "execution_count": null,
   "id": "76668de9",
   "metadata": {
    "execution": {
     "iopub.execute_input": "2024-05-18T14:42:26.163521Z",
     "iopub.status.busy": "2024-05-18T14:42:26.162762Z",
     "iopub.status.idle": "2024-05-18T14:42:27.118253Z",
     "shell.execute_reply": "2024-05-18T14:42:27.117429Z"
    },
    "metadata": {},
    "papermill": {
     "duration": 0.976549,
     "end_time": "2024-05-18T14:42:27.120371",
     "exception": false,
     "start_time": "2024-05-18T14:42:26.143822",
     "status": "completed"
    },
    "tags": []
   },
   "outputs": [],
   "source": [
    "countplot('color', 'Color', 45)"
   ]
  },
  {
   "cell_type": "code",
   "execution_count": null,
   "id": "5cab5a75",
   "metadata": {
    "execution": {
     "iopub.execute_input": "2024-05-18T14:42:27.159305Z",
     "iopub.status.busy": "2024-05-18T14:42:27.158961Z",
     "iopub.status.idle": "2024-05-18T14:42:28.057240Z",
     "shell.execute_reply": "2024-05-18T14:42:28.056280Z"
    },
    "metadata": {},
    "papermill": {
     "duration": 0.920056,
     "end_time": "2024-05-18T14:42:28.059315",
     "exception": false,
     "start_time": "2024-05-18T14:42:27.139259",
     "status": "completed"
    },
    "tags": []
   },
   "outputs": [],
   "source": [
    "countplot('interior', 'Interior', 45)"
   ]
  },
  {
   "cell_type": "code",
   "execution_count": null,
   "id": "6ccd1c90",
   "metadata": {
    "execution": {
     "iopub.execute_input": "2024-05-18T14:42:28.100655Z",
     "iopub.status.busy": "2024-05-18T14:42:28.099866Z",
     "iopub.status.idle": "2024-05-18T14:42:29.174358Z",
     "shell.execute_reply": "2024-05-18T14:42:29.173336Z"
    },
    "metadata": {},
    "papermill": {
     "duration": 1.097118,
     "end_time": "2024-05-18T14:42:29.176340",
     "exception": false,
     "start_time": "2024-05-18T14:42:28.079222",
     "status": "completed"
    },
    "tags": []
   },
   "outputs": [],
   "source": [
    "countplot('state', 'State', 45)"
   ]
  },
  {
   "cell_type": "markdown",
   "id": "981fd4f1",
   "metadata": {
    "papermill": {
     "duration": 0.019763,
     "end_time": "2024-05-18T14:42:29.216594",
     "exception": false,
     "start_time": "2024-05-18T14:42:29.196831",
     "status": "completed"
    },
    "tags": []
   },
   "source": [
    "We have checked all necessary categorical columns there are some columns left such as 'Model', 'Trim', 'Vin', and 'Seller'. These columns have a lot of data points which will not help us understanding data or anything related that much."
   ]
  },
  {
   "cell_type": "code",
   "execution_count": null,
   "id": "6b4f70c9",
   "metadata": {
    "execution": {
     "iopub.execute_input": "2024-05-18T14:42:29.257793Z",
     "iopub.status.busy": "2024-05-18T14:42:29.257217Z",
     "iopub.status.idle": "2024-05-18T14:42:29.264024Z",
     "shell.execute_reply": "2024-05-18T14:42:29.263172Z"
    },
    "metadata": {},
    "papermill": {
     "duration": 0.02966,
     "end_time": "2024-05-18T14:42:29.266020",
     "exception": false,
     "start_time": "2024-05-18T14:42:29.236360",
     "status": "completed"
    },
    "tags": []
   },
   "outputs": [],
   "source": [
    "def boxplot(col, label):\n",
    "    '''\n",
    "        Create Boxplot from the given data series.\n",
    "\n",
    "        col (string): Used as column for dataframe.\n",
    "\n",
    "        label (string): Used as label and title for chart.\n",
    "    \n",
    "    '''\n",
    "\n",
    "    plt.figure(figsize=(10,6))\n",
    "    sns.boxplot(data[col], palette='viridis')\n",
    "    plt.title(label, fontsize=20)\n",
    "    plt.ylabel(label, fontsize=16)\n",
    "\n",
    "\n",
    "def histplot(col, label):\n",
    "    '''\n",
    "        Create Boxplot from the given data series.\n",
    "\n",
    "        col (string): Used as column for dataframe.\n",
    "\n",
    "        label (string): Used as label and title for chart.\n",
    "    \n",
    "    '''\n",
    "\n",
    "    plt.figure(figsize=(10,6))\n",
    "    sns.histplot(data[col], palette='viridis')\n",
    "    plt.title(label, fontsize=20)\n",
    "    plt.xlabel(label, fontsize=16)"
   ]
  },
  {
   "cell_type": "code",
   "execution_count": null,
   "id": "c2942b79",
   "metadata": {
    "execution": {
     "iopub.execute_input": "2024-05-18T14:42:29.307078Z",
     "iopub.status.busy": "2024-05-18T14:42:29.306823Z",
     "iopub.status.idle": "2024-05-18T14:42:29.623746Z",
     "shell.execute_reply": "2024-05-18T14:42:29.622776Z"
    },
    "metadata": {},
    "papermill": {
     "duration": 0.339867,
     "end_time": "2024-05-18T14:42:29.625938",
     "exception": false,
     "start_time": "2024-05-18T14:42:29.286071",
     "status": "completed"
    },
    "tags": []
   },
   "outputs": [],
   "source": [
    "boxplot('year', 'Year')"
   ]
  },
  {
   "cell_type": "code",
   "execution_count": null,
   "id": "d29dfe47",
   "metadata": {
    "execution": {
     "iopub.execute_input": "2024-05-18T14:42:29.668585Z",
     "iopub.status.busy": "2024-05-18T14:42:29.668276Z",
     "iopub.status.idle": "2024-05-18T14:42:29.964866Z",
     "shell.execute_reply": "2024-05-18T14:42:29.963738Z"
    },
    "metadata": {},
    "papermill": {
     "duration": 0.320515,
     "end_time": "2024-05-18T14:42:29.967067",
     "exception": false,
     "start_time": "2024-05-18T14:42:29.646552",
     "status": "completed"
    },
    "tags": []
   },
   "outputs": [],
   "source": [
    "boxplot('condition', 'Condition')"
   ]
  },
  {
   "cell_type": "code",
   "execution_count": null,
   "id": "44cb5626",
   "metadata": {
    "execution": {
     "iopub.execute_input": "2024-05-18T14:42:30.015074Z",
     "iopub.status.busy": "2024-05-18T14:42:30.014756Z",
     "iopub.status.idle": "2024-05-18T14:42:30.342466Z",
     "shell.execute_reply": "2024-05-18T14:42:30.341592Z"
    },
    "metadata": {},
    "papermill": {
     "duration": 0.353352,
     "end_time": "2024-05-18T14:42:30.344520",
     "exception": false,
     "start_time": "2024-05-18T14:42:29.991168",
     "status": "completed"
    },
    "tags": []
   },
   "outputs": [],
   "source": [
    "boxplot('odometer', 'Odometer')"
   ]
  },
  {
   "cell_type": "code",
   "execution_count": null,
   "id": "d8533c9f",
   "metadata": {
    "execution": {
     "iopub.execute_input": "2024-05-18T14:42:30.391045Z",
     "iopub.status.busy": "2024-05-18T14:42:30.390742Z",
     "iopub.status.idle": "2024-05-18T14:42:32.385183Z",
     "shell.execute_reply": "2024-05-18T14:42:32.384252Z"
    },
    "metadata": {},
    "papermill": {
     "duration": 2.019981,
     "end_time": "2024-05-18T14:42:32.387121",
     "exception": false,
     "start_time": "2024-05-18T14:42:30.367140",
     "status": "completed"
    },
    "tags": []
   },
   "outputs": [],
   "source": [
    "histplot('mmr', 'Manheim Market Report (MMR)')"
   ]
  },
  {
   "cell_type": "code",
   "execution_count": null,
   "id": "f6035aab",
   "metadata": {
    "execution": {
     "iopub.execute_input": "2024-05-18T14:42:32.432882Z",
     "iopub.status.busy": "2024-05-18T14:42:32.432085Z",
     "iopub.status.idle": "2024-05-18T14:42:34.605974Z",
     "shell.execute_reply": "2024-05-18T14:42:34.605091Z"
    },
    "metadata": {},
    "papermill": {
     "duration": 2.198964,
     "end_time": "2024-05-18T14:42:34.608071",
     "exception": false,
     "start_time": "2024-05-18T14:42:32.409107",
     "status": "completed"
    },
    "tags": []
   },
   "outputs": [],
   "source": [
    "histplot('sellingprice', 'Selling Price')"
   ]
  },
  {
   "cell_type": "markdown",
   "id": "74b98b73",
   "metadata": {
    "papermill": {
     "duration": 0.022097,
     "end_time": "2024-05-18T14:42:34.653721",
     "exception": false,
     "start_time": "2024-05-18T14:42:34.631624",
     "status": "completed"
    },
    "tags": []
   },
   "source": [
    "Checking out these results we can see that all these columns have number of outliers and the 'MMR', 'Selling Price' column is highly skewed to the right."
   ]
  },
  {
   "cell_type": "code",
   "execution_count": null,
   "id": "7a8ea02d",
   "metadata": {
    "execution": {
     "iopub.execute_input": "2024-05-18T14:42:34.699770Z",
     "iopub.status.busy": "2024-05-18T14:42:34.699007Z",
     "iopub.status.idle": "2024-05-18T14:42:34.703990Z",
     "shell.execute_reply": "2024-05-18T14:42:34.703084Z"
    },
    "metadata": {},
    "papermill": {
     "duration": 0.029822,
     "end_time": "2024-05-18T14:42:34.705840",
     "exception": false,
     "start_time": "2024-05-18T14:42:34.676018",
     "status": "completed"
    },
    "tags": []
   },
   "outputs": [],
   "source": [
    "cat_col = ['make', 'model', 'trim', 'body', 'transmission', 'vin', 'state', 'color', 'interior', 'seller']\n",
    "num_col = ['year', 'condition', 'odometer', 'mmr', 'sellingprice']"
   ]
  },
  {
   "cell_type": "code",
   "execution_count": null,
   "id": "57ecda2f",
   "metadata": {
    "execution": {
     "iopub.execute_input": "2024-05-18T14:42:34.752275Z",
     "iopub.status.busy": "2024-05-18T14:42:34.751590Z",
     "iopub.status.idle": "2024-05-18T14:42:35.130532Z",
     "shell.execute_reply": "2024-05-18T14:42:35.129600Z"
    },
    "metadata": {},
    "papermill": {
     "duration": 0.404545,
     "end_time": "2024-05-18T14:42:35.132489",
     "exception": false,
     "start_time": "2024-05-18T14:42:34.727944",
     "status": "completed"
    },
    "tags": []
   },
   "outputs": [],
   "source": [
    "sns.heatmap(data[num_col].corr(), annot=True)"
   ]
  },
  {
   "cell_type": "code",
   "execution_count": null,
   "id": "c0df5893",
   "metadata": {
    "execution": {
     "iopub.execute_input": "2024-05-18T14:42:35.180852Z",
     "iopub.status.busy": "2024-05-18T14:42:35.180227Z",
     "iopub.status.idle": "2024-05-18T14:42:35.247601Z",
     "shell.execute_reply": "2024-05-18T14:42:35.246555Z"
    },
    "metadata": {},
    "papermill": {
     "duration": 0.094036,
     "end_time": "2024-05-18T14:42:35.249987",
     "exception": false,
     "start_time": "2024-05-18T14:42:35.155951",
     "status": "completed"
    },
    "tags": []
   },
   "outputs": [],
   "source": [
    "data.groupby('make')[['sellingprice', 'condition']].mean().sort_values(by=['sellingprice', 'condition'], ascending=False)"
   ]
  },
  {
   "cell_type": "code",
   "execution_count": null,
   "id": "c28459a2",
   "metadata": {
    "execution": {
     "iopub.execute_input": "2024-05-18T14:42:35.300285Z",
     "iopub.status.busy": "2024-05-18T14:42:35.299961Z",
     "iopub.status.idle": "2024-05-18T14:42:42.820726Z",
     "shell.execute_reply": "2024-05-18T14:42:42.819742Z"
    },
    "metadata": {},
    "papermill": {
     "duration": 7.548122,
     "end_time": "2024-05-18T14:42:42.823414",
     "exception": false,
     "start_time": "2024-05-18T14:42:35.275292",
     "status": "completed"
    },
    "tags": []
   },
   "outputs": [],
   "source": [
    "plt.figure(figsize=(20,6))\n",
    "plt.title('Brands vs Selling Price by Transmission', fontsize=20)\n",
    "sns.barplot(x=data['make'], y=data['sellingprice'], hue=data['transmission'])\n",
    "plt.xlabel('Brands', fontsize=16)\n",
    "plt.xticks(rotation=90)\n",
    "plt.ylabel('Selling Price', fontsize=16)"
   ]
  },
  {
   "cell_type": "code",
   "execution_count": null,
   "id": "da0b4318",
   "metadata": {
    "execution": {
     "iopub.execute_input": "2024-05-18T14:42:42.875911Z",
     "iopub.status.busy": "2024-05-18T14:42:42.875355Z",
     "iopub.status.idle": "2024-05-18T14:42:45.320027Z",
     "shell.execute_reply": "2024-05-18T14:42:45.319086Z"
    },
    "metadata": {},
    "papermill": {
     "duration": 2.474444,
     "end_time": "2024-05-18T14:42:45.323124",
     "exception": false,
     "start_time": "2024-05-18T14:42:42.848680",
     "status": "completed"
    },
    "tags": []
   },
   "outputs": [],
   "source": [
    "plt.figure(figsize=(12,6))\n",
    "plt.title('Selling Price vs MMR')\n",
    "sns.scatterplot(x=data['sellingprice'], y=data['mmr'], palette='magma', alpha=0.6)\n",
    "plt.xlabel('Selling Price', fontsize=16)\n",
    "plt.ylabel('MMR', fontsize=16)"
   ]
  },
  {
   "cell_type": "code",
   "execution_count": null,
   "id": "87bebb15",
   "metadata": {
    "execution": {
     "iopub.execute_input": "2024-05-18T14:42:45.379472Z",
     "iopub.status.busy": "2024-05-18T14:42:45.379125Z",
     "iopub.status.idle": "2024-05-18T14:43:43.884453Z",
     "shell.execute_reply": "2024-05-18T14:43:43.883591Z"
    },
    "metadata": {},
    "papermill": {
     "duration": 58.536503,
     "end_time": "2024-05-18T14:43:43.887165",
     "exception": false,
     "start_time": "2024-05-18T14:42:45.350662",
     "status": "completed"
    },
    "tags": []
   },
   "outputs": [],
   "source": [
    "plt.figure(figsize=(12,6))\n",
    "plt.title('Selling Price vs MMR')\n",
    "sns.regplot(x=data['sellingprice'], y=data['mmr'], marker='o', color=\".3\", line_kws=dict(color=\"r\"))\n",
    "plt.xlabel('Selling Price', fontsize=16)\n",
    "plt.ylabel('MMR', fontsize=16)"
   ]
  },
  {
   "cell_type": "code",
   "execution_count": null,
   "id": "322c7ee0",
   "metadata": {
    "execution": {
     "iopub.execute_input": "2024-05-18T14:43:43.946149Z",
     "iopub.status.busy": "2024-05-18T14:43:43.945576Z",
     "iopub.status.idle": "2024-05-18T14:43:44.982901Z",
     "shell.execute_reply": "2024-05-18T14:43:44.981583Z"
    },
    "metadata": {},
    "papermill": {
     "duration": 1.069893,
     "end_time": "2024-05-18T14:43:44.985645",
     "exception": false,
     "start_time": "2024-05-18T14:43:43.915752",
     "status": "completed"
    },
    "tags": []
   },
   "outputs": [],
   "source": [
    "plt.figure(figsize=(18,6))\n",
    "plt.title('Car MMR vs State', fontsize=20)\n",
    "sns.barplot(x=data['state'], y=data['mmr'], errorbar=None, palette='viridis')\n",
    "plt.xlabel('State', fontsize=16)\n",
    "plt.xticks(rotation=45)\n",
    "plt.ylabel('MMR', fontsize=16)"
   ]
  },
  {
   "cell_type": "code",
   "execution_count": null,
   "id": "5906c56c",
   "metadata": {
    "execution": {
     "iopub.execute_input": "2024-05-18T14:43:45.048800Z",
     "iopub.status.busy": "2024-05-18T14:43:45.048425Z",
     "iopub.status.idle": "2024-05-18T14:43:45.902744Z",
     "shell.execute_reply": "2024-05-18T14:43:45.901777Z"
    },
    "metadata": {},
    "papermill": {
     "duration": 0.888832,
     "end_time": "2024-05-18T14:43:45.905413",
     "exception": false,
     "start_time": "2024-05-18T14:43:45.016581",
     "status": "completed"
    },
    "tags": []
   },
   "outputs": [],
   "source": [
    "plt.figure(figsize=(18,6))\n",
    "plt.title('Car Color vs Selling Price', fontsize=20)\n",
    "sns.barplot(data=data, x='color', y='sellingprice', errorbar=None, palette='viridis')\n",
    "plt.xlabel('Color', fontsize=16)\n",
    "plt.xticks(rotation=45)\n",
    "plt.ylabel('Selling Price', fontsize=16)"
   ]
  },
  {
   "cell_type": "code",
   "execution_count": null,
   "id": "ea70caa8",
   "metadata": {
    "execution": {
     "iopub.execute_input": "2024-05-18T14:43:45.972487Z",
     "iopub.status.busy": "2024-05-18T14:43:45.971608Z",
     "iopub.status.idle": "2024-05-18T14:43:46.745535Z",
     "shell.execute_reply": "2024-05-18T14:43:46.744612Z"
    },
    "metadata": {},
    "papermill": {
     "duration": 0.808881,
     "end_time": "2024-05-18T14:43:46.747903",
     "exception": false,
     "start_time": "2024-05-18T14:43:45.939022",
     "status": "completed"
    },
    "tags": []
   },
   "outputs": [],
   "source": [
    "plt.figure(figsize=(18,6))\n",
    "plt.title('Car Interior Color vs Selling Price', fontsize=20)\n",
    "sns.barplot(data=data, x='interior', y='sellingprice', errorbar=None, palette='viridis')\n",
    "plt.xlabel('Interior Color', fontsize=16)\n",
    "plt.xticks(rotation=45)\n",
    "plt.ylabel('Selling Price', fontsize=16)"
   ]
  },
  {
   "cell_type": "code",
   "execution_count": null,
   "id": "7e094ba4",
   "metadata": {
    "execution": {
     "iopub.execute_input": "2024-05-18T14:43:46.818194Z",
     "iopub.status.busy": "2024-05-18T14:43:46.817408Z",
     "iopub.status.idle": "2024-05-18T14:43:49.258790Z",
     "shell.execute_reply": "2024-05-18T14:43:49.257879Z"
    },
    "metadata": {},
    "papermill": {
     "duration": 2.479766,
     "end_time": "2024-05-18T14:43:49.261656",
     "exception": false,
     "start_time": "2024-05-18T14:43:46.781890",
     "status": "completed"
    },
    "tags": []
   },
   "outputs": [],
   "source": [
    "plt.figure(figsize=(18,6))\n",
    "plt.title('Car Travelled vs Selling Price', fontsize=20)\n",
    "sns.scatterplot(x=data['sellingprice'], y=data['odometer'], palette='viridis', alpha=0.5)\n",
    "plt.xlabel('Selling Price', fontsize=16)\n",
    "plt.xticks(rotation=45)\n",
    "plt.ylabel('Car Travelled', fontsize=16)"
   ]
  },
  {
   "cell_type": "code",
   "execution_count": null,
   "id": "2f27d08f",
   "metadata": {
    "execution": {
     "iopub.execute_input": "2024-05-18T14:43:49.332494Z",
     "iopub.status.busy": "2024-05-18T14:43:49.332154Z",
     "iopub.status.idle": "2024-05-18T14:43:53.902363Z",
     "shell.execute_reply": "2024-05-18T14:43:53.901400Z"
    },
    "metadata": {},
    "papermill": {
     "duration": 4.60837,
     "end_time": "2024-05-18T14:43:53.904601",
     "exception": false,
     "start_time": "2024-05-18T14:43:49.296231",
     "status": "completed"
    },
    "tags": []
   },
   "outputs": [],
   "source": [
    "plt.figure(figsize=(18,6))\n",
    "plt.title('Manufacturing Year vs Selling Price', fontsize=20)\n",
    "sns.lineplot(x=data['year'], y=data['sellingprice'], palette='viridis')\n",
    "plt.xlabel('Manufacturing Year', fontsize=16)\n",
    "plt.xticks(rotation=45)\n",
    "plt.ylabel('Selling Price', fontsize=16)"
   ]
  },
  {
   "cell_type": "code",
   "execution_count": null,
   "id": "567b64a0",
   "metadata": {
    "execution": {
     "iopub.execute_input": "2024-05-18T14:43:53.978000Z",
     "iopub.status.busy": "2024-05-18T14:43:53.977619Z",
     "iopub.status.idle": "2024-05-18T14:44:03.912441Z",
     "shell.execute_reply": "2024-05-18T14:44:03.911540Z"
    },
    "metadata": {},
    "papermill": {
     "duration": 9.975675,
     "end_time": "2024-05-18T14:44:03.915881",
     "exception": false,
     "start_time": "2024-05-18T14:43:53.940206",
     "status": "completed"
    },
    "tags": []
   },
   "outputs": [],
   "source": [
    "plt.figure(figsize=(18,6))\n",
    "plt.title('Sale Date vs Selling Price', fontsize=20)\n",
    "sns.lineplot(x=data['saledate'], y=data['sellingprice'], palette='viridis')\n",
    "plt.xlabel('Sale Date', fontsize=16)\n",
    "plt.xticks(rotation=45)\n",
    "plt.ylabel('Selling Price', fontsize=16)"
   ]
  },
  {
   "cell_type": "markdown",
   "id": "8d76495b",
   "metadata": {
    "papermill": {
     "duration": 0.038559,
     "end_time": "2024-05-18T14:44:03.995356",
     "exception": false,
     "start_time": "2024-05-18T14:44:03.956797",
     "status": "completed"
    },
    "tags": []
   },
   "source": [
    "## Report"
   ]
  },
  {
   "cell_type": "markdown",
   "id": "e06df659",
   "metadata": {
    "papermill": {
     "duration": 0.037168,
     "end_time": "2024-05-18T14:44:04.069680",
     "exception": false,
     "start_time": "2024-05-18T14:44:04.032512",
     "status": "completed"
    },
    "tags": []
   },
   "source": [
    "After finishing the EDA let's see what we have.\n",
    "\n",
    "1. We have 558837 rows and 16 columns at first after importing the data. These 16 columns have 5 integer type columns and rest 11 are object or we can say string type columns.\n",
    "\n",
    "2. As per the statistical analysis we can say that the Manheim Market Report (MMR) and Selling Price are quite close. The max of odometer is 999999 which seems very high but it is not impossible.\n",
    "\n",
    "3. We have some cars manufactured in 1982 this might result as having some Vintage Cars in the dataset.\n",
    "\n",
    "4. There are lots of missing values in dataset. Transmission has the highest missing values about 13% which is quite high. Other than this Make, Model, Trim, Body, and Condition have 1%-2% missing values. Besides these other have less than 1% missing values.\n",
    "5. We have Year and Sale date columns which should be of datetime data type but they are in int and object type so we'll convert them.\n",
    "6. The condition column have values such as 45, 59, 34 etc but this is not correct as it is a column which should have values between 1-5 as rating.\n",
    "7. The 'Color' and 'Interior' columns has data point with values '-' which replaced by 'Multicolor' as we don't want to add more values to a particular color.\n",
    "8. 'Body' column values have some inconsistensies like Sedan, sedan or SUV, suv.\n",
    "9. Ford, Chevrolet, Nissan, Toyota, and Dodge are the top 5 brands by the count.\n",
    "10. Sedan and SUV are the top 2 body types used in cars.\n",
    "11. Automtic transmission is most counted, it also maked the dataset imbalanced based on transmission.\n",
    "12. There are different color cars but 'Black' and 'Grey' are the most used interior color.\n",
    "13. Florida and California have 70k-80k and more cars while all other are below 50k cars.\n",
    "14. The minimum and maximum of manufactured year of car is 2000 and 2015 but there are some outlier cars whose manufactured year is 1990 or less.\n",
    "15. Most of the condition of cars come between 2 to 4 rating but there are some cars whose condition is either 1 or 5 too.\n",
    "16. The maximum of odometer display is about 200000 but there are many outliers too such as some cars even travelled 999999 which looks very inconvincing.\n",
    "17. The MMR and Selling price is quite identical. There is high spike of cars between the prices of 10000-20000 and both are right skewed data.\n",
    "18. The Sale date of cars are from year 2015 and last two months of year 2014 whereas the first quarter of year 2014 is treated as outlier.\n",
    "19. The correlation of the columns fall between -0.78 to 0.98, which is an indication that there is some multicolinearity.\n",
    "20. The avearge car price of costliest car is Rolls Royce with price of $153456.25 while the cheapest car is DOdge with price of $450.00.\n",
    "21. The sellin price of automatic transmission car brands is highest besides of two brands Land Rover and Lotus. Lotus does not have car of automatic transmission while Rolls-Royce does not have car of manual transmission.\n",
    "22. Our scatterplot and also regplot shows that MMR and Selling Price is very much correlated but it also showing there are some of data points which are very much off in respect of other.\n",
    "23. Car color and Interior color is not very affecting variable for the Selling price.\n",
    "24. The distance travelled by car and selling price does have a negative relation but it is not vey much decisive in case of Selling price.\n",
    "25. Cars manufactured after year 2000 shows and upward trend in respect of Selling price. While there is no trend between sale date and selling price, it just kind of random walk."
   ]
  }
 ],
 "metadata": {
  "kaggle": {
   "accelerator": "none",
   "dataSources": [
    {
     "datasetId": 4476093,
     "sourceId": 7673611,
     "sourceType": "datasetVersion"
    }
   ],
   "isGpuEnabled": false,
   "isInternetEnabled": true,
   "language": "python",
   "sourceType": "notebook"
  },
  "kernelspec": {
   "display_name": "Python 3",
   "language": "python",
   "name": "python3"
  },
  "language_info": {
   "codemirror_mode": {
    "name": "ipython",
    "version": 3
   },
   "file_extension": ".py",
   "mimetype": "text/x-python",
   "name": "python",
   "nbconvert_exporter": "python",
   "pygments_lexer": "ipython3",
   "version": "3.10.13"
  },
  "papermill": {
   "default_parameters": {},
   "duration": 117.510183,
   "end_time": "2024-05-18T14:44:04.728181",
   "environment_variables": {},
   "exception": null,
   "input_path": "__notebook__.ipynb",
   "output_path": "__notebook__.ipynb",
   "parameters": {},
   "start_time": "2024-05-18T14:42:07.217998",
   "version": "2.5.0"
  }
 },
 "nbformat": 4,
 "nbformat_minor": 5
}
